{
 "cells": [
  {
   "cell_type": "markdown",
   "id": "e429d885-4188-47f1-8e5a-c422d81a9a12",
   "metadata": {},
   "source": [
    "<div align=\"center\">\n",
    "\n",
    "<h3> CRiM-GS: Continuous Rigid Motion-Aware Gaussian Splatting from Motion Blur Images\n",
    " </h3> \n",
    " <br/>\n",
    "  <a href='https://arxiv.org/abs/'><img src='https://img.shields.io/badge/ArXiv-red' /></a> \n",
    "  <a href='https://CRiM-GS.github.io/'><img src='https://img.shields.io/badge/Project_Page-blue' /></a> \n",
    "  <br/>\n",
    "  <br/>\n",
    "<div>\n",
    "    <a href='https://hydragon.co.kr' target='_blank'>Jungho Lee <sup> 1</sup> </a>&emsp;\n",
    "    <a href='https://scholar.google.com/citations?user=BaFYtwgAAAAJ&hl=ko' target='_blank'>Donghyeong Kim <sup> 1</sup></a>&emsp;\n",
    "    <a href='https://dogyoonlee.github.io' target='_blank'>Dogyoon Lee <sup> 1</sup></a>&emsp;\n",
    "    <a href='https://suhwan-cho.github.io' target='_blank'>Suhwan Cho <sup> 1</sup></a>&emsp;\n",
    "    <a target='_blank'>Sangyoun Lee <sup>1</sup></a>&emsp;\n",
    "</div>\n",
    "<br>\n",
    "<div>\n",
    "                      <sup>1</sup> Yonsei University &nbsp;&nbsp;&nbsp;\n",
    "</div>\n",
    "<br>\n",
    "<br>\n",
    "<br>\n",
    "</div>\n",
    "\n",
    "## **TODO**\n",
    "\n",
    "- [ ] Release source code.\n"
   ]
  },
  {
   "cell_type": "code",
   "execution_count": null,
   "id": "85a163ca-beeb-4f41-8397-371627d4ca47",
   "metadata": {},
   "outputs": [],
   "source": []
  }
 ],
 "metadata": {
  "kernelspec": {
   "display_name": "Python 3 (ipykernel)",
   "language": "python",
   "name": "python3"
  },
  "language_info": {
   "codemirror_mode": {
    "name": "ipython",
    "version": 3
   },
   "file_extension": ".py",
   "mimetype": "text/x-python",
   "name": "python",
   "nbconvert_exporter": "python",
   "pygments_lexer": "ipython3",
   "version": "3.11.3"
  }
 },
 "nbformat": 4,
 "nbformat_minor": 5
}
